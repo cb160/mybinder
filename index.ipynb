{
 "metadata": {
  "gist_id": "6011986",
  "name": ""
 },
 "nbformat": 3,
 "nbformat_minor": 0,
 "worksheets": [
  {
   "cells": [
    {
     "cell_type": "heading",
     "level": 1,
     "metadata": {},
     "source": [
      "An Initial Notebook"
     ]
    },
    {
     "cell_type": "markdown",
     "metadata": {},
     "source": [
      "It is a common problem that people want to import code from IPython Notebooks.\n"
     ]
    }
   ],
   "metadata": {}
  }
 ]
}
